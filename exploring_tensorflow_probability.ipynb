{
 "cells": [
  {
   "cell_type": "markdown",
   "metadata": {},
   "source": [
    "# Some Experimentation with Tensorflow Probability"
   ]
  },
  {
   "cell_type": "code",
   "execution_count": 1,
   "metadata": {},
   "outputs": [
    {
     "name": "stdout",
     "output_type": "stream",
     "text": [
      "\n",
      "WARNING: The TensorFlow contrib module will not be included in TensorFlow 2.0.\n",
      "For more information, please see:\n",
      "  * https://github.com/tensorflow/community/blob/master/rfcs/20180907-contrib-sunset.md\n",
      "  * https://github.com/tensorflow/addons\n",
      "If you depend on functionality not listed there, please file an issue.\n",
      "\n"
     ]
    }
   ],
   "source": [
    "import pandas as pd\n",
    "from tensorflow_probability import edward2 as ed\n",
    "import tensorflow_probability as tfp\n",
    "import tensorflow as tf\n",
    "import numpy as np"
   ]
  },
  {
   "cell_type": "code",
   "execution_count": 2,
   "metadata": {},
   "outputs": [
    {
     "data": {
      "text/plain": [
       "'/anaconda3/envs/dl/bin/python'"
      ]
     },
     "execution_count": 2,
     "metadata": {},
     "output_type": "execute_result"
    }
   ],
   "source": [
    "import sys\n",
    "sys.executable"
   ]
  },
  {
   "cell_type": "code",
   "execution_count": 3,
   "metadata": {},
   "outputs": [],
   "source": [
    "data = pd.read_csv('fatal_airline_accidents.csv')"
   ]
  },
  {
   "cell_type": "code",
   "execution_count": 4,
   "metadata": {},
   "outputs": [],
   "source": [
    "y = np.array(data['accidents'])\n",
    "y = tf.convert_to_tensor(y, dtype=tf.float32)\n"
   ]
  },
  {
   "cell_type": "code",
   "execution_count": 13,
   "metadata": {},
   "outputs": [],
   "source": [
    "alpha=tf.convert_to_tensor(np.array([5.0]*10),dtype=tf.float32)\n",
    "beta=tf.convert_to_tensor(np.array([2.0]*10),dtype=tf.float32)\n",
    "tfd = tfp.distributions"
   ]
  },
  {
   "cell_type": "code",
   "execution_count": 14,
   "metadata": {},
   "outputs": [
    {
     "data": {
      "text/plain": [
       "(<tf.Tensor 'Const_3:0' shape=(10,) dtype=float32>,\n",
       " <tf.Tensor 'Const_4:0' shape=(10,) dtype=float32>)"
      ]
     },
     "execution_count": 14,
     "metadata": {},
     "output_type": "execute_result"
    }
   ],
   "source": [
    "alpha, beta"
   ]
  },
  {
   "cell_type": "code",
   "execution_count": 15,
   "metadata": {},
   "outputs": [],
   "source": [
    "def accidents_model_prior_predictive_dist(alpha, beta):\n",
    "    theta = ed.Gamma(concentration=alpha, rate=beta, name=\"theta\")\n",
    "    accidents = ed.Poisson(rate=theta,name=\"accidents\")\n",
    "    return accidents\n",
    "    \n",
    "accidents_gen = accidents_model_prior_predictive_dist(alpha=alpha, beta=beta)\n",
    "\n"
   ]
  },
  {
   "cell_type": "code",
   "execution_count": 16,
   "metadata": {},
   "outputs": [],
   "source": [
    "# inital state\n",
    "qtheta = tf.random_gamma([10], alpha=5.0, beta=2.0, dtype=tf.float32)\n",
    "#qtheta = tf.random_normal([], mean=1.0, stddev=3.0, dtype=tf.float32)"
   ]
  },
  {
   "cell_type": "code",
   "execution_count": 17,
   "metadata": {},
   "outputs": [
    {
     "data": {
      "text/plain": [
       "<tf.Tensor 'random_gamma/Maximum:0' shape=(10,) dtype=float32>"
      ]
     },
     "execution_count": 17,
     "metadata": {},
     "output_type": "execute_result"
    }
   ],
   "source": [
    "qtheta"
   ]
  },
  {
   "cell_type": "code",
   "execution_count": 18,
   "metadata": {},
   "outputs": [],
   "source": [
    "result = []\n",
    "with tf.Session() as sess:\n",
    "    for i in range(10000):\n",
    "        accidents_ = sess.run(accidents_gen)\n",
    "        result.append(accidents_)"
   ]
  },
  {
   "cell_type": "code",
   "execution_count": 19,
   "metadata": {},
   "outputs": [],
   "source": [
    "import numpy as np\n",
    "import matplotlib.pyplot as plt\n",
    "%matplotlib inline"
   ]
  },
  {
   "cell_type": "code",
   "execution_count": 20,
   "metadata": {},
   "outputs": [
    {
     "name": "stdout",
     "output_type": "stream",
     "text": [
      "Mean: 2.49438  Var: 3.7474282 \n"
     ]
    }
   ],
   "source": [
    "print('Mean: %s  Var: %s ' % (np.mean(result), np.var(result) ) )"
   ]
  },
  {
   "cell_type": "code",
   "execution_count": 21,
   "metadata": {},
   "outputs": [
    {
     "data": {
      "image/png": "[encoded data removed]",
      "text/plain": [
       "<Figure size 432x288 with 1 Axes>"
      ]
     },
     "metadata": {
      "needs_background": "light"
     },
     "output_type": "display_data"
    }
   ],
   "source": [
    "plt.hist(np.array(result).flatten(),bins=15)\n",
    "plt.show()"
   ]
  },
  {
   "cell_type": "code",
   "execution_count": 22,
   "metadata": {},
   "outputs": [],
   "source": [
    "log_joint = ed.make_log_joint_fn(accidents_model_prior_predictive_dist)\n",
    "\n",
    "\n",
    "\n",
    "def target_log_prob_fn(theta):\n",
    "    \"\"\"Target log-probability as a function of states.\"\"\"\n",
    "    return log_joint(alpha, beta, theta=theta, accidents=y)    "
   ]
  },
  {
   "cell_type": "code",
   "execution_count": 26,
   "metadata": {},
   "outputs": [],
   "source": [
    "# Initialize the HMC transition kernel.\n",
    "num_samples = int(10e3)\n",
    "num_burnin_steps = int(1e3)\n",
    "\n",
    "hmc = tfp.mcmc.HamiltonianMonteCarlo(\n",
    "    target_log_prob_fn=target_log_prob_fn,\n",
    "    num_leapfrog_steps=5,\n",
    "    step_size=0.01)"
   ]
  },
  {
   "cell_type": "code",
   "execution_count": 27,
   "metadata": {},
   "outputs": [],
   "source": [
    "samples, kernel_results = tfp.mcmc.sample_chain(\n",
    "    num_results=num_results,\n",
    "    current_state=[qtheta],\n",
    "    num_burnin_steps=num_burnin_steps,\n",
    "    kernel=hmc)\n",
    "\n",
    "\n"
   ]
  },
  {
   "cell_type": "code",
   "execution_count": 28,
   "metadata": {},
   "outputs": [
    {
     "name": "stdout",
     "output_type": "stream",
     "text": [
      "pct accepted: 0.9999\n",
      "[array([[ 6.746139 ,  7.760075 ,  9.008763 , ...,  5.072694 ,  4.4772816,\n",
      "         6.278378 ],\n",
      "       [ 6.7090974,  7.7435775,  8.994854 , ...,  5.026912 ,  4.548915 ,\n",
      "         6.35964  ],\n",
      "       [ 6.674753 ,  7.727055 ,  9.020736 , ...,  5.053764 ,  4.6378536,\n",
      "         6.350527 ],\n",
      "       ...,\n",
      "       [10.115327 , 11.060875 , 10.204517 , ...,  8.380159 ,  8.087912 ,\n",
      "         8.548069 ],\n",
      "       [10.151785 , 11.03296  , 10.163288 , ...,  8.402973 ,  8.165112 ,\n",
      "         8.4707155],\n",
      "       [10.17069  , 10.995087 , 10.170074 , ...,  8.397022 ,  8.152656 ,\n",
      "         8.500627 ]], dtype=float32)]\n"
     ]
    }
   ],
   "source": [
    "# sample from posterior\n",
    "with tf.Session() as sess:\n",
    "    samples, is_accepted_ = sess.run([samples, kernel_results.is_accepted])\n",
    "    accepted = np.sum(is_accepted_)\n",
    "    print(\"pct accepted: %s\"%(accepted / num_samples))\n",
    "\n",
    "\n",
    "\n",
    "print(samples)"
   ]
  },
  {
   "cell_type": "code",
   "execution_count": null,
   "metadata": {},
   "outputs": [],
   "source": [
    "features.shape"
   ]
  },
  {
   "cell_type": "code",
   "execution_count": null,
   "metadata": {},
   "outputs": [],
   "source": []
  }
 ],
 "metadata": {
  "kernelspec": {
   "display_name": "dl",
   "language": "python",
   "name": "dl"
  },
  "language_info": {
   "codemirror_mode": {
    "name": "ipython",
    "version": 3
   },
   "file_extension": ".py",
   "mimetype": "text/x-python",
   "name": "python",
   "nbconvert_exporter": "python",
   "pygments_lexer": "ipython3",
   "version": "3.6.8"
  }
 },
 "nbformat": 4,
 "nbformat_minor": 2
}
